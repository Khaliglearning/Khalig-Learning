
import pandas
import pandas as pd
import numpy as np
import matplotlib.pyplot as plt
import sklearn
from sklearn.model_selection import train_test_split
from sklearn import metrics
from sklearn.metrics import mean_squared_error
from fbprophet import Prophet
from fbprophet.plot import add_changepoints_to_plot
from fbprophet.plot import plot_cross_validation_metric
from fbprophet.diagnostics import performance_metrics
from fbprophet.diagnostics import cross_validation




df = pd.read_csv("dadostratado.csv") #Lendo o arquivo csv.
df.rename(columns={'DT_MEDICAO':'ds', 'TEM_INS':'y'},inplace=True) #mudando o nome das colunas, pois o Prophet só lê duas variáveis, sendo assim tínhamos que rodar o programa 3 vezes parar ler as 3 variáveis.
df #printando o data frame.

#deletamos as colunas que não íamos usar neste momento
del df['UMD_INS']
del df['Unnamed: 0']
del df['VEN_VEL']
df

#declarando uma varíavel do tipo Prophet.
modelo = Prophet ()

#dando fit no modelo para a biblioteca treinar os dados.
modelo.fit(df)

#organizando os dados para o tipo de data e hora via pandas.
data_futuro = pd.to_datetime(df['ds'], format="%Y-%m-%d %H:%M")
data_futuro = pd.date_range(start='2020-10-1 00:00', end='2022-01-19 23:00', periods= 11424)

#vendo o tipo.
type(data_futuro)

#printando para ver se estava ok.
data_futuro

#declarando a variável que vai receber os dados tratados.
dff = pd.DataFrame(data_futuro)

#atribuindo a coluna 'ds' ao  dff.
dff.columns=['ds']

#printando o dff para conferir se está certo.
dff

#criando a variável de previsão que vai receber a previsão
previsao =  modelo.predict(dff) #Neste momento, estamos fazendo a previsão com o "predict".

#Aqui temos nossa previsão.
previsao

